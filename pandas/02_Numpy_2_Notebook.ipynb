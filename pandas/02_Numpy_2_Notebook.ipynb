{
 "cells": [
  {
   "cell_type": "code",
   "execution_count": 1,
   "id": "2464476c",
   "metadata": {},
   "outputs": [],
   "source": [
    "import numpy as np\n"
   ]
  },
  {
   "cell_type": "code",
   "execution_count": 2,
   "id": "d5b5ecc8",
   "metadata": {},
   "outputs": [],
   "source": [
    "a = np.arange(1,10,1.0)"
   ]
  },
  {
   "cell_type": "code",
   "execution_count": 3,
   "id": "a14a8bc0",
   "metadata": {},
   "outputs": [
    {
     "data": {
      "text/plain": [
       "array([1., 2., 3., 4., 5., 6., 7., 8., 9.])"
      ]
     },
     "execution_count": 3,
     "metadata": {},
     "output_type": "execute_result"
    }
   ],
   "source": [
    "a\n"
   ]
  },
  {
   "cell_type": "code",
   "execution_count": 4,
   "id": "70eb9728",
   "metadata": {},
   "outputs": [
    {
     "data": {
      "text/plain": [
       "array([3., 4.])"
      ]
     },
     "execution_count": 4,
     "metadata": {},
     "output_type": "execute_result"
    }
   ],
   "source": [
    "a[2:4]"
   ]
  },
  {
   "cell_type": "code",
   "execution_count": 5,
   "id": "02ebabf6",
   "metadata": {},
   "outputs": [],
   "source": [
    "a[2:4] = [1,2]"
   ]
  },
  {
   "cell_type": "code",
   "execution_count": null,
   "id": "6ca01f88",
   "metadata": {},
   "outputs": [],
   "source": []
  },
  {
   "cell_type": "code",
   "execution_count": 6,
   "id": "24b18f96",
   "metadata": {},
   "outputs": [
    {
     "data": {
      "text/plain": [
       "array([1., 2., 1., 2., 5., 6., 7., 8., 9.])"
      ]
     },
     "execution_count": 6,
     "metadata": {},
     "output_type": "execute_result"
    }
   ],
   "source": [
    "a"
   ]
  },
  {
   "cell_type": "code",
   "execution_count": 7,
   "id": "7d80e54b",
   "metadata": {},
   "outputs": [],
   "source": [
    "b = np.arange(1,10,1)"
   ]
  },
  {
   "cell_type": "code",
   "execution_count": 8,
   "id": "7dc85621",
   "metadata": {},
   "outputs": [
    {
     "data": {
      "text/plain": [
       "array([1, 2, 3, 4, 5, 6, 7, 8, 9])"
      ]
     },
     "execution_count": 8,
     "metadata": {},
     "output_type": "execute_result"
    }
   ],
   "source": [
    "b\n"
   ]
  },
  {
   "cell_type": "code",
   "execution_count": 13,
   "id": "7438f954",
   "metadata": {},
   "outputs": [],
   "source": [
    "b[1:3]= 3.0"
   ]
  },
  {
   "cell_type": "code",
   "execution_count": 12,
   "id": "2826e842",
   "metadata": {},
   "outputs": [
    {
     "data": {
      "text/plain": [
       "array([1, 3, 3, 4, 5, 6, 7, 8, 9])"
      ]
     },
     "execution_count": 12,
     "metadata": {},
     "output_type": "execute_result"
    }
   ],
   "source": [
    "b\n"
   ]
  },
  {
   "cell_type": "code",
   "execution_count": 14,
   "id": "e7eef481",
   "metadata": {},
   "outputs": [
    {
     "data": {
      "text/plain": [
       "array([1, 3, 3, 4, 5, 6, 7, 8, 9])"
      ]
     },
     "execution_count": 14,
     "metadata": {},
     "output_type": "execute_result"
    }
   ],
   "source": [
    "b\n"
   ]
  },
  {
   "cell_type": "code",
   "execution_count": 15,
   "id": "044be8d3",
   "metadata": {},
   "outputs": [],
   "source": [
    "b[1:3]= 6.5"
   ]
  },
  {
   "cell_type": "code",
   "execution_count": 16,
   "id": "78860560",
   "metadata": {},
   "outputs": [
    {
     "data": {
      "text/plain": [
       "array([1, 6, 6, 4, 5, 6, 7, 8, 9])"
      ]
     },
     "execution_count": 16,
     "metadata": {},
     "output_type": "execute_result"
    }
   ],
   "source": [
    "b"
   ]
  },
  {
   "cell_type": "code",
   "execution_count": 17,
   "id": "b0ff687d",
   "metadata": {},
   "outputs": [
    {
     "data": {
      "text/plain": [
       "array([1, 6, 6, 4, 5, 6, 7, 8, 9])"
      ]
     },
     "execution_count": 17,
     "metadata": {},
     "output_type": "execute_result"
    }
   ],
   "source": [
    "b\n"
   ]
  },
  {
   "cell_type": "code",
   "execution_count": 18,
   "id": "3b410ba4",
   "metadata": {},
   "outputs": [
    {
     "ename": "TypeError",
     "evalue": "'numpy.dtype[int64]' object is not callable",
     "output_type": "error",
     "traceback": [
      "\u001b[0;31m---------------------------------------------------------------------------\u001b[0m",
      "\u001b[0;31mTypeError\u001b[0m                                 Traceback (most recent call last)",
      "Cell \u001b[0;32mIn[18], line 1\u001b[0m\n\u001b[0;32m----> 1\u001b[0m \u001b[43mb\u001b[49m\u001b[38;5;241;43m.\u001b[39;49m\u001b[43mdtype\u001b[49m\u001b[43m(\u001b[49m\u001b[43m)\u001b[49m\n",
      "\u001b[0;31mTypeError\u001b[0m: 'numpy.dtype[int64]' object is not callable"
     ]
    }
   ],
   "source": [
    "b.dtype()"
   ]
  },
  {
   "cell_type": "code",
   "execution_count": 19,
   "id": "31a32e52",
   "metadata": {},
   "outputs": [
    {
     "data": {
      "text/plain": [
       "dtype('int64')"
      ]
     },
     "execution_count": 19,
     "metadata": {},
     "output_type": "execute_result"
    }
   ],
   "source": [
    "b.dtype\n"
   ]
  },
  {
   "cell_type": "code",
   "execution_count": 20,
   "id": "232e4a81",
   "metadata": {},
   "outputs": [],
   "source": [
    "b = np.array(b,dtype='float')\n"
   ]
  },
  {
   "cell_type": "code",
   "execution_count": 21,
   "id": "afb0dcce",
   "metadata": {},
   "outputs": [
    {
     "data": {
      "text/plain": [
       "array([1., 6., 6., 4., 5., 6., 7., 8., 9.])"
      ]
     },
     "execution_count": 21,
     "metadata": {},
     "output_type": "execute_result"
    }
   ],
   "source": [
    "b\n"
   ]
  },
  {
   "cell_type": "code",
   "execution_count": 22,
   "id": "a75f60a9",
   "metadata": {},
   "outputs": [
    {
     "data": {
      "text/plain": [
       "dtype('float64')"
      ]
     },
     "execution_count": 22,
     "metadata": {},
     "output_type": "execute_result"
    }
   ],
   "source": [
    "b.dtype"
   ]
  },
  {
   "cell_type": "code",
   "execution_count": 23,
   "id": "2871699c",
   "metadata": {},
   "outputs": [
    {
     "data": {
      "text/plain": [
       "array([ True, False, False,  True,  True, False, False, False, False])"
      ]
     },
     "execution_count": 23,
     "metadata": {},
     "output_type": "execute_result"
    }
   ],
   "source": [
    "b<6"
   ]
  },
  {
   "cell_type": "code",
   "execution_count": 24,
   "id": "fa2d5b91",
   "metadata": {},
   "outputs": [
    {
     "data": {
      "text/plain": [
       "array([1., 6., 6., 4., 5., 6., 7., 8., 9.])"
      ]
     },
     "execution_count": 24,
     "metadata": {},
     "output_type": "execute_result"
    }
   ],
   "source": [
    "b\n"
   ]
  },
  {
   "cell_type": "code",
   "execution_count": 25,
   "id": "8c7c732e",
   "metadata": {},
   "outputs": [
    {
     "data": {
      "text/plain": [
       "array([1., 4., 5.])"
      ]
     },
     "execution_count": 25,
     "metadata": {},
     "output_type": "execute_result"
    }
   ],
   "source": [
    "b[b<6]"
   ]
  },
  {
   "cell_type": "code",
   "execution_count": 26,
   "id": "082e17c6",
   "metadata": {},
   "outputs": [],
   "source": [
    "a = np.arange(1,100)"
   ]
  },
  {
   "cell_type": "code",
   "execution_count": 27,
   "id": "6665c92f",
   "metadata": {},
   "outputs": [
    {
     "data": {
      "text/plain": [
       "array([ 1,  2,  3,  4,  5,  6,  7,  8,  9, 10, 11, 12, 13, 14, 15, 16, 17,\n",
       "       18, 19, 20, 21, 22, 23, 24, 25, 26, 27, 28, 29, 30, 31, 32, 33, 34,\n",
       "       35, 36, 37, 38, 39, 40, 41, 42, 43, 44, 45, 46, 47, 48, 49, 50, 51,\n",
       "       52, 53, 54, 55, 56, 57, 58, 59, 60, 61, 62, 63, 64, 65, 66, 67, 68,\n",
       "       69, 70, 71, 72, 73, 74, 75, 76, 77, 78, 79, 80, 81, 82, 83, 84, 85,\n",
       "       86, 87, 88, 89, 90, 91, 92, 93, 94, 95, 96, 97, 98, 99])"
      ]
     },
     "execution_count": 27,
     "metadata": {},
     "output_type": "execute_result"
    }
   ],
   "source": [
    "a"
   ]
  },
  {
   "cell_type": "code",
   "execution_count": 28,
   "id": "8e761587",
   "metadata": {},
   "outputs": [
    {
     "data": {
      "text/plain": [
       "array([2, 3, 1, 2, 3, 1, 2, 3, 1, 2, 3, 1, 2, 3, 1, 2, 3, 1, 2, 3, 1, 2,\n",
       "       3, 1, 2, 3, 1, 2, 3, 1, 2, 3, 1, 2, 3, 1, 2, 3, 1, 2, 3, 1, 2, 3,\n",
       "       1, 2, 3, 1, 2, 3, 1, 2, 3, 1, 2, 3, 1, 2, 3, 1, 2, 3, 1, 2, 3, 1,\n",
       "       2, 3, 1, 2, 3, 1, 2, 3, 1, 2, 3, 1, 2, 3, 1, 2, 3, 1, 2, 3, 1, 2,\n",
       "       3, 1, 2, 3, 1, 2, 3, 1, 2, 3, 1])"
      ]
     },
     "execution_count": 28,
     "metadata": {},
     "output_type": "execute_result"
    }
   ],
   "source": [
    "a[a%3]"
   ]
  },
  {
   "cell_type": "code",
   "execution_count": 29,
   "id": "8a674da5",
   "metadata": {},
   "outputs": [
    {
     "data": {
      "text/plain": [
       "array([1, 2, 0, 1, 2, 0, 1, 2, 0, 1, 2, 0, 1, 2, 0, 1, 2, 0, 1, 2, 0, 1,\n",
       "       2, 0, 1, 2, 0, 1, 2, 0, 1, 2, 0, 1, 2, 0, 1, 2, 0, 1, 2, 0, 1, 2,\n",
       "       0, 1, 2, 0, 1, 2, 0, 1, 2, 0, 1, 2, 0, 1, 2, 0, 1, 2, 0, 1, 2, 0,\n",
       "       1, 2, 0, 1, 2, 0, 1, 2, 0, 1, 2, 0, 1, 2, 0, 1, 2, 0, 1, 2, 0, 1,\n",
       "       2, 0, 1, 2, 0, 1, 2, 0, 1, 2, 0])"
      ]
     },
     "execution_count": 29,
     "metadata": {},
     "output_type": "execute_result"
    }
   ],
   "source": [
    "a%3\n"
   ]
  },
  {
   "cell_type": "code",
   "execution_count": 30,
   "id": "2bdbb12a",
   "metadata": {},
   "outputs": [
    {
     "data": {
      "text/plain": [
       "array([ 1,  2,  3,  4,  5,  6,  7,  8,  9, 10, 11, 12, 13, 14, 15, 16, 17,\n",
       "       18, 19, 20, 21, 22, 23, 24, 25, 26, 27, 28, 29, 30, 31, 32, 33, 34,\n",
       "       35, 36, 37, 38, 39, 40, 41, 42, 43, 44, 45, 46, 47, 48, 49, 50, 51,\n",
       "       52, 53, 54, 55, 56, 57, 58, 59, 60, 61, 62, 63, 64, 65, 66, 67, 68,\n",
       "       69, 70, 71, 72, 73, 74, 75, 76, 77, 78, 79, 80, 81, 82, 83, 84, 85,\n",
       "       86, 87, 88, 89, 90, 91, 92, 93, 94, 95, 96, 97, 98, 99])"
      ]
     },
     "execution_count": 30,
     "metadata": {},
     "output_type": "execute_result"
    }
   ],
   "source": [
    "a\n"
   ]
  },
  {
   "cell_type": "code",
   "execution_count": 31,
   "id": "2953a324",
   "metadata": {},
   "outputs": [
    {
     "ename": "IndexError",
     "evalue": "arrays used as indices must be of integer (or boolean) type",
     "output_type": "error",
     "traceback": [
      "\u001b[0;31m---------------------------------------------------------------------------\u001b[0m",
      "\u001b[0;31mIndexError\u001b[0m                                Traceback (most recent call last)",
      "Cell \u001b[0;32mIn[31], line 1\u001b[0m\n\u001b[0;32m----> 1\u001b[0m \u001b[43ma\u001b[49m\u001b[43m[\u001b[49m\u001b[43ma\u001b[49m\u001b[38;5;241;43m/\u001b[39;49m\u001b[38;5;241;43m3\u001b[39;49m\u001b[43m]\u001b[49m\n",
      "\u001b[0;31mIndexError\u001b[0m: arrays used as indices must be of integer (or boolean) type"
     ]
    }
   ],
   "source": [
    "a[a/3]"
   ]
  },
  {
   "cell_type": "code",
   "execution_count": 32,
   "id": "a0145202",
   "metadata": {},
   "outputs": [
    {
     "data": {
      "text/plain": [
       "array([ 0.33333333,  0.66666667,  1.        ,  1.33333333,  1.66666667,\n",
       "        2.        ,  2.33333333,  2.66666667,  3.        ,  3.33333333,\n",
       "        3.66666667,  4.        ,  4.33333333,  4.66666667,  5.        ,\n",
       "        5.33333333,  5.66666667,  6.        ,  6.33333333,  6.66666667,\n",
       "        7.        ,  7.33333333,  7.66666667,  8.        ,  8.33333333,\n",
       "        8.66666667,  9.        ,  9.33333333,  9.66666667, 10.        ,\n",
       "       10.33333333, 10.66666667, 11.        , 11.33333333, 11.66666667,\n",
       "       12.        , 12.33333333, 12.66666667, 13.        , 13.33333333,\n",
       "       13.66666667, 14.        , 14.33333333, 14.66666667, 15.        ,\n",
       "       15.33333333, 15.66666667, 16.        , 16.33333333, 16.66666667,\n",
       "       17.        , 17.33333333, 17.66666667, 18.        , 18.33333333,\n",
       "       18.66666667, 19.        , 19.33333333, 19.66666667, 20.        ,\n",
       "       20.33333333, 20.66666667, 21.        , 21.33333333, 21.66666667,\n",
       "       22.        , 22.33333333, 22.66666667, 23.        , 23.33333333,\n",
       "       23.66666667, 24.        , 24.33333333, 24.66666667, 25.        ,\n",
       "       25.33333333, 25.66666667, 26.        , 26.33333333, 26.66666667,\n",
       "       27.        , 27.33333333, 27.66666667, 28.        , 28.33333333,\n",
       "       28.66666667, 29.        , 29.33333333, 29.66666667, 30.        ,\n",
       "       30.33333333, 30.66666667, 31.        , 31.33333333, 31.66666667,\n",
       "       32.        , 32.33333333, 32.66666667, 33.        ])"
      ]
     },
     "execution_count": 32,
     "metadata": {},
     "output_type": "execute_result"
    }
   ],
   "source": [
    "a/3\n"
   ]
  },
  {
   "cell_type": "code",
   "execution_count": 33,
   "id": "3db2cb2d",
   "metadata": {},
   "outputs": [
    {
     "data": {
      "text/plain": [
       "array([ 3,  6,  9, 12, 15, 18, 21, 24, 27, 30, 33, 36, 39, 42, 45, 48, 51,\n",
       "       54, 57, 60, 63, 66, 69, 72, 75, 78, 81, 84, 87, 90, 93, 96, 99])"
      ]
     },
     "execution_count": 33,
     "metadata": {},
     "output_type": "execute_result"
    }
   ],
   "source": [
    "a[a%3 == 0]"
   ]
  },
  {
   "cell_type": "code",
   "execution_count": 1,
   "id": "42ad8cbd",
   "metadata": {},
   "outputs": [
    {
     "ename": "NameError",
     "evalue": "name 'a' is not defined",
     "output_type": "error",
     "traceback": [
      "\u001b[0;31m---------------------------------------------------------------------------\u001b[0m",
      "\u001b[0;31mNameError\u001b[0m                                 Traceback (most recent call last)",
      "Cell \u001b[0;32mIn[1], line 1\u001b[0m\n\u001b[0;32m----> 1\u001b[0m \u001b[43ma\u001b[49m\n",
      "\u001b[0;31mNameError\u001b[0m: name 'a' is not defined"
     ]
    }
   ],
   "source": [
    "a"
   ]
  },
  {
   "cell_type": "code",
   "execution_count": 2,
   "id": "af42b00d",
   "metadata": {},
   "outputs": [],
   "source": [
    "import numpy as np\n"
   ]
  },
  {
   "cell_type": "code",
   "execution_count": 3,
   "id": "975beb40",
   "metadata": {},
   "outputs": [],
   "source": [
    "a = np.arange(1,100)"
   ]
  },
  {
   "cell_type": "code",
   "execution_count": 4,
   "id": "9c3a24d6",
   "metadata": {},
   "outputs": [
    {
     "data": {
      "text/plain": [
       "array([ 1,  2,  3,  4,  5,  6,  7,  8,  9, 10, 11, 12, 13, 14, 15, 16, 17,\n",
       "       18, 19, 20, 21, 22, 23, 24, 25, 26, 27, 28, 29, 30, 31, 32, 33, 34,\n",
       "       35, 36, 37, 38, 39, 40, 41, 42, 43, 44, 45, 46, 47, 48, 49, 50, 51,\n",
       "       52, 53, 54, 55, 56, 57, 58, 59, 60, 61, 62, 63, 64, 65, 66, 67, 68,\n",
       "       69, 70, 71, 72, 73, 74, 75, 76, 77, 78, 79, 80, 81, 82, 83, 84, 85,\n",
       "       86, 87, 88, 89, 90, 91, 92, 93, 94, 95, 96, 97, 98, 99])"
      ]
     },
     "execution_count": 4,
     "metadata": {},
     "output_type": "execute_result"
    }
   ],
   "source": [
    "a\n"
   ]
  },
  {
   "cell_type": "code",
   "execution_count": 5,
   "id": "47318ac9",
   "metadata": {},
   "outputs": [
    {
     "data": {
      "text/plain": [
       "array([ 2,  4,  6,  8, 10, 12, 14, 16, 18, 20, 22, 24, 26, 28, 30, 32, 34,\n",
       "       36, 38, 40, 42, 44, 46, 48, 50, 52, 54, 56, 58, 60, 62, 64, 66, 68,\n",
       "       70, 72, 74, 76, 78, 80, 82, 84, 86, 88, 90, 92, 94, 96, 98])"
      ]
     },
     "execution_count": 5,
     "metadata": {},
     "output_type": "execute_result"
    }
   ],
   "source": [
    "a[a%2==0]"
   ]
  },
  {
   "cell_type": "code",
   "execution_count": 9,
   "id": "8200283e",
   "metadata": {},
   "outputs": [
    {
     "ename": "SyntaxError",
     "evalue": "invalid character '˜' (U+02DC) (3416645005.py, line 1)",
     "output_type": "error",
     "traceback": [
      "\u001b[0;36m  Cell \u001b[0;32mIn[9], line 1\u001b[0;36m\u001b[0m\n\u001b[0;31m    a[˜(a%2==0)]\u001b[0m\n\u001b[0m      ^\u001b[0m\n\u001b[0;31mSyntaxError\u001b[0m\u001b[0;31m:\u001b[0m invalid character '˜' (U+02DC)\n"
     ]
    }
   ],
   "source": [
    "a[˜(a%2==0)]"
   ]
  },
  {
   "cell_type": "code",
   "execution_count": 10,
   "id": "25a53ac2",
   "metadata": {},
   "outputs": [
    {
     "data": {
      "text/plain": [
       "array([ 1,  2,  3,  4,  5,  6,  7,  8,  9, 10, 11, 12, 13, 14, 15, 16, 17,\n",
       "       18, 19, 20, 21, 22, 23, 24, 25, 26, 27, 28, 29, 30, 31, 32, 33, 34,\n",
       "       35, 36, 37, 38, 39, 40, 41, 42, 43, 44, 45, 46, 47, 48, 49, 50, 51,\n",
       "       52, 53, 54, 55, 56, 57, 58, 59, 60, 61, 62, 63, 64, 65, 66, 67, 68,\n",
       "       69, 70, 71, 72, 73, 74, 75, 76, 77, 78, 79, 80, 81, 82, 83, 84, 85,\n",
       "       86, 87, 88, 89, 90, 91, 92, 93, 94, 95, 96, 97, 98, 99])"
      ]
     },
     "execution_count": 10,
     "metadata": {},
     "output_type": "execute_result"
    }
   ],
   "source": [
    "a\n"
   ]
  },
  {
   "cell_type": "code",
   "execution_count": 11,
   "id": "38fdb74d",
   "metadata": {},
   "outputs": [
    {
     "ename": "SyntaxError",
     "evalue": "invalid character '˜' (U+02DC) (2330497106.py, line 1)",
     "output_type": "error",
     "traceback": [
      "\u001b[0;36m  Cell \u001b[0;32mIn[11], line 1\u001b[0;36m\u001b[0m\n\u001b[0;31m    a[˜(a%2 == 0)]\u001b[0m\n\u001b[0m      ^\u001b[0m\n\u001b[0;31mSyntaxError\u001b[0m\u001b[0;31m:\u001b[0m invalid character '˜' (U+02DC)\n"
     ]
    }
   ],
   "source": [
    "a[˜(a%2 == 0)]"
   ]
  },
  {
   "cell_type": "code",
   "execution_count": 12,
   "id": "a3655b02",
   "metadata": {},
   "outputs": [
    {
     "data": {
      "text/plain": [
       "array([ 1,  2,  3,  4,  5,  6,  7,  8,  9, 10, 11, 12, 13, 14, 15, 16, 17,\n",
       "       18, 19, 20, 21, 22, 23, 24, 25, 26, 27, 28, 29, 30, 31, 32, 33, 34,\n",
       "       35, 36, 37, 38, 39, 40, 41, 42, 43, 44, 45, 46, 47, 48, 49, 50, 51,\n",
       "       52, 53, 54, 55, 56, 57, 58, 59, 60, 61, 62, 63, 64, 65, 66, 67, 68,\n",
       "       69, 70, 71, 72, 73, 74, 75, 76, 77, 78, 79, 80, 81, 82, 83, 84, 85,\n",
       "       86, 87, 88, 89, 90, 91, 92, 93, 94, 95, 96, 97, 98, 99])"
      ]
     },
     "execution_count": 12,
     "metadata": {},
     "output_type": "execute_result"
    }
   ],
   "source": [
    "a\n"
   ]
  },
  {
   "cell_type": "code",
   "execution_count": 13,
   "id": "a1ddc021",
   "metadata": {},
   "outputs": [],
   "source": [
    "a = a[a%2==0]"
   ]
  },
  {
   "cell_type": "code",
   "execution_count": 14,
   "id": "9c4c8056",
   "metadata": {},
   "outputs": [
    {
     "data": {
      "text/plain": [
       "array([ 2,  4,  6,  8, 10, 12, 14, 16, 18, 20, 22, 24, 26, 28, 30, 32, 34,\n",
       "       36, 38, 40, 42, 44, 46, 48, 50, 52, 54, 56, 58, 60, 62, 64, 66, 68,\n",
       "       70, 72, 74, 76, 78, 80, 82, 84, 86, 88, 90, 92, 94, 96, 98])"
      ]
     },
     "execution_count": 14,
     "metadata": {},
     "output_type": "execute_result"
    }
   ],
   "source": [
    "a\n"
   ]
  },
  {
   "cell_type": "code",
   "execution_count": 15,
   "id": "9acef5c0",
   "metadata": {},
   "outputs": [
    {
     "ename": "NameError",
     "evalue": "name 'ã' is not defined",
     "output_type": "error",
     "traceback": [
      "\u001b[0;31m---------------------------------------------------------------------------\u001b[0m",
      "\u001b[0;31mNameError\u001b[0m                                 Traceback (most recent call last)",
      "Cell \u001b[0;32mIn[15], line 1\u001b[0m\n\u001b[0;32m----> 1\u001b[0m \u001b[43mã\u001b[49m\n",
      "\u001b[0;31mNameError\u001b[0m: name 'ã' is not defined"
     ]
    }
   ],
   "source": [
    "ã"
   ]
  },
  {
   "cell_type": "code",
   "execution_count": 16,
   "id": "f9afa3df",
   "metadata": {},
   "outputs": [],
   "source": [
    "mask1 = (a%2==0)"
   ]
  },
  {
   "cell_type": "code",
   "execution_count": 17,
   "id": "e67442b1",
   "metadata": {},
   "outputs": [],
   "source": [
    "mask2 = (a%5==0)"
   ]
  },
  {
   "cell_type": "code",
   "execution_count": 18,
   "id": "8b6b2486",
   "metadata": {},
   "outputs": [
    {
     "data": {
      "text/plain": [
       "array([ 2,  4,  6,  8, 10, 12, 14, 16, 18, 20, 22, 24, 26, 28, 30, 32, 34,\n",
       "       36, 38, 40, 42, 44, 46, 48, 50, 52, 54, 56, 58, 60, 62, 64, 66, 68,\n",
       "       70, 72, 74, 76, 78, 80, 82, 84, 86, 88, 90, 92, 94, 96, 98])"
      ]
     },
     "execution_count": 18,
     "metadata": {},
     "output_type": "execute_result"
    }
   ],
   "source": [
    "a\n"
   ]
  },
  {
   "cell_type": "code",
   "execution_count": 19,
   "id": "1b9c8b13",
   "metadata": {},
   "outputs": [],
   "source": [
    "b = a[mask1 & mask2]"
   ]
  },
  {
   "cell_type": "code",
   "execution_count": 20,
   "id": "c2bff4e8",
   "metadata": {},
   "outputs": [
    {
     "data": {
      "text/plain": [
       "array([10, 20, 30, 40, 50, 60, 70, 80, 90])"
      ]
     },
     "execution_count": 20,
     "metadata": {},
     "output_type": "execute_result"
    }
   ],
   "source": [
    "b"
   ]
  },
  {
   "cell_type": "code",
   "execution_count": 21,
   "id": "eab8bbbe",
   "metadata": {},
   "outputs": [
    {
     "data": {
      "text/plain": [
       "array([10, 20, 30, 40, 50, 60, 70, 80, 90])"
      ]
     },
     "execution_count": 21,
     "metadata": {},
     "output_type": "execute_result"
    }
   ],
   "source": [
    "b\n"
   ]
  },
  {
   "cell_type": "code",
   "execution_count": 22,
   "id": "e3e82c14",
   "metadata": {},
   "outputs": [],
   "source": [
    "c = a[mask1 | mask2]"
   ]
  },
  {
   "cell_type": "code",
   "execution_count": 23,
   "id": "6fe47b34",
   "metadata": {},
   "outputs": [
    {
     "data": {
      "text/plain": [
       "array([ 2,  4,  6,  8, 10, 12, 14, 16, 18, 20, 22, 24, 26, 28, 30, 32, 34,\n",
       "       36, 38, 40, 42, 44, 46, 48, 50, 52, 54, 56, 58, 60, 62, 64, 66, 68,\n",
       "       70, 72, 74, 76, 78, 80, 82, 84, 86, 88, 90, 92, 94, 96, 98])"
      ]
     },
     "execution_count": 23,
     "metadata": {},
     "output_type": "execute_result"
    }
   ],
   "source": [
    "c"
   ]
  },
  {
   "cell_type": "code",
   "execution_count": 24,
   "id": "c09d239c",
   "metadata": {},
   "outputs": [
    {
     "ename": "AttributeError",
     "evalue": "'numpy.ndarray' object has no attribute 'header'",
     "output_type": "error",
     "traceback": [
      "\u001b[0;31m---------------------------------------------------------------------------\u001b[0m",
      "\u001b[0;31mAttributeError\u001b[0m                            Traceback (most recent call last)",
      "Cell \u001b[0;32mIn[24], line 1\u001b[0m\n\u001b[0;32m----> 1\u001b[0m \u001b[43ma\u001b[49m\u001b[38;5;241;43m.\u001b[39;49m\u001b[43mheader\u001b[49m\n",
      "\u001b[0;31mAttributeError\u001b[0m: 'numpy.ndarray' object has no attribute 'header'"
     ]
    }
   ],
   "source": [
    "a.header"
   ]
  },
  {
   "cell_type": "code",
   "execution_count": 25,
   "id": "bdd33541",
   "metadata": {},
   "outputs": [
    {
     "ename": "AttributeError",
     "evalue": "'numpy.ndarray' object has no attribute 'headers'",
     "output_type": "error",
     "traceback": [
      "\u001b[0;31m---------------------------------------------------------------------------\u001b[0m",
      "\u001b[0;31mAttributeError\u001b[0m                            Traceback (most recent call last)",
      "Cell \u001b[0;32mIn[25], line 1\u001b[0m\n\u001b[0;32m----> 1\u001b[0m \u001b[43ma\u001b[49m\u001b[38;5;241;43m.\u001b[39;49m\u001b[43mheaders\u001b[49m()\n",
      "\u001b[0;31mAttributeError\u001b[0m: 'numpy.ndarray' object has no attribute 'headers'"
     ]
    }
   ],
   "source": [
    "a.headers()"
   ]
  },
  {
   "cell_type": "code",
   "execution_count": 26,
   "id": "9b106542",
   "metadata": {},
   "outputs": [
    {
     "data": {
      "text/plain": [
       "1"
      ]
     },
     "execution_count": 26,
     "metadata": {},
     "output_type": "execute_result"
    }
   ],
   "source": [
    "a.ndim\n"
   ]
  },
  {
   "cell_type": "code",
   "execution_count": 27,
   "id": "fa32129a",
   "metadata": {},
   "outputs": [
    {
     "data": {
      "text/plain": [
       "(49,)"
      ]
     },
     "execution_count": 27,
     "metadata": {},
     "output_type": "execute_result"
    }
   ],
   "source": [
    "a.shape"
   ]
  },
  {
   "cell_type": "code",
   "execution_count": 29,
   "id": "12e5b0e8",
   "metadata": {},
   "outputs": [
    {
     "data": {
      "text/plain": [
       "array([4, 5, 6, 7, 1, 2, 3])"
      ]
     },
     "execution_count": 29,
     "metadata": {},
     "output_type": "execute_result"
    }
   ],
   "source": [
    "b = np.array([4,5,6,7,1,2,3])\n",
    "b"
   ]
  },
  {
   "cell_type": "code",
   "execution_count": 30,
   "id": "2c951494",
   "metadata": {},
   "outputs": [
    {
     "data": {
      "text/plain": [
       "array([1, 2, 3, 4, 5, 6, 7])"
      ]
     },
     "execution_count": 30,
     "metadata": {},
     "output_type": "execute_result"
    }
   ],
   "source": [
    "np.sort(b)"
   ]
  },
  {
   "cell_type": "code",
   "execution_count": 31,
   "id": "a48ff821",
   "metadata": {},
   "outputs": [
    {
     "data": {
      "text/plain": [
       "array([4, 5, 6, 7, 1, 2, 3])"
      ]
     },
     "execution_count": 31,
     "metadata": {},
     "output_type": "execute_result"
    }
   ],
   "source": [
    "b"
   ]
  },
  {
   "cell_type": "code",
   "execution_count": 32,
   "id": "41a58434",
   "metadata": {},
   "outputs": [],
   "source": [
    "b.sort()"
   ]
  },
  {
   "cell_type": "code",
   "execution_count": 33,
   "id": "dcdb028c",
   "metadata": {},
   "outputs": [
    {
     "data": {
      "text/plain": [
       "array([1, 2, 3, 4, 5, 6, 7])"
      ]
     },
     "execution_count": 33,
     "metadata": {},
     "output_type": "execute_result"
    }
   ],
   "source": [
    "b"
   ]
  },
  {
   "cell_type": "code",
   "execution_count": 34,
   "id": "09a730e8",
   "metadata": {},
   "outputs": [
    {
     "data": {
      "text/plain": [
       "4.0"
      ]
     },
     "execution_count": 34,
     "metadata": {},
     "output_type": "execute_result"
    }
   ],
   "source": [
    "np.mean(b)"
   ]
  },
  {
   "cell_type": "code",
   "execution_count": 35,
   "id": "5977b7cb",
   "metadata": {},
   "outputs": [
    {
     "data": {
      "text/plain": [
       "<function ndarray.mean>"
      ]
     },
     "execution_count": 35,
     "metadata": {},
     "output_type": "execute_result"
    }
   ],
   "source": [
    "a.mean"
   ]
  },
  {
   "cell_type": "code",
   "execution_count": 36,
   "id": "a5f881fc",
   "metadata": {},
   "outputs": [
    {
     "data": {
      "text/plain": [
       "50.0"
      ]
     },
     "execution_count": 36,
     "metadata": {},
     "output_type": "execute_result"
    }
   ],
   "source": [
    "a.mean()"
   ]
  },
  {
   "cell_type": "code",
   "execution_count": 37,
   "id": "367cc906",
   "metadata": {},
   "outputs": [
    {
     "data": {
      "text/plain": [
       "4.0"
      ]
     },
     "execution_count": 37,
     "metadata": {},
     "output_type": "execute_result"
    }
   ],
   "source": [
    "b.mean()"
   ]
  },
  {
   "cell_type": "code",
   "execution_count": 1,
   "id": "20503b7a",
   "metadata": {},
   "outputs": [],
   "source": [
    "import numpy as np\n"
   ]
  },
  {
   "cell_type": "code",
   "execution_count": 3,
   "id": "c7d4e4b4",
   "metadata": {},
   "outputs": [
    {
     "name": "stdout",
     "output_type": "stream",
     "text": [
      "zsh:1: command not found: gdown\r\n"
     ]
    }
   ],
   "source": []
  },
  {
   "cell_type": "code",
   "execution_count": 4,
   "id": "67d269be",
   "metadata": {},
   "outputs": [
    {
     "name": "stdout",
     "output_type": "stream",
     "text": [
      "Defaulting to user installation because normal site-packages is not writeable\n",
      "Collecting gdown\n",
      "  Downloading gdown-4.7.1-py3-none-any.whl (15 kB)\n",
      "Requirement already satisfied: six in /Library/Developer/CommandLineTools/Library/Frameworks/Python3.framework/Versions/3.9/lib/python3.9/site-packages (from gdown) (1.15.0)\n",
      "Requirement already satisfied: beautifulsoup4 in ./Library/Python/3.9/lib/python/site-packages (from gdown) (4.12.0)\n",
      "Collecting tqdm\n",
      "  Downloading tqdm-4.65.0-py3-none-any.whl (77 kB)\n",
      "\u001b[2K     \u001b[90m━━━━━━━━━━━━━━━━━━━━━━━━━━━━━━━━━━━━━━━━\u001b[0m \u001b[32m77.1/77.1 kB\u001b[0m \u001b[31m1.5 MB/s\u001b[0m eta \u001b[36m0:00:00\u001b[0ma \u001b[36m0:00:01\u001b[0m\n",
      "\u001b[?25hCollecting filelock\n",
      "  Downloading filelock-3.10.7-py3-none-any.whl (10 kB)\n",
      "Collecting requests[socks]\n",
      "  Downloading requests-2.28.2-py3-none-any.whl (62 kB)\n",
      "\u001b[2K     \u001b[90m━━━━━━━━━━━━━━━━━━━━━━━━━━━━━━━━━━━━━━━\u001b[0m \u001b[32m62.8/62.8 kB\u001b[0m \u001b[31m991.3 kB/s\u001b[0m eta \u001b[36m0:00:00\u001b[0m \u001b[36m0:00:01\u001b[0m\n",
      "\u001b[?25hRequirement already satisfied: soupsieve>1.2 in ./Library/Python/3.9/lib/python/site-packages (from beautifulsoup4->gdown) (2.4)\n",
      "Collecting certifi>=2017.4.17\n",
      "  Downloading certifi-2022.12.7-py3-none-any.whl (155 kB)\n",
      "\u001b[2K     \u001b[90m━━━━━━━━━━━━━━━━━━━━━━━━━━━━━━━━━━━━━━━\u001b[0m \u001b[32m155.3/155.3 kB\u001b[0m \u001b[31m3.7 MB/s\u001b[0m eta \u001b[36m0:00:00\u001b[0ma \u001b[36m0:00:01\u001b[0m\n",
      "\u001b[?25hRequirement already satisfied: idna<4,>=2.5 in ./Library/Python/3.9/lib/python/site-packages (from requests[socks]->gdown) (3.4)\n",
      "Collecting charset-normalizer<4,>=2\n",
      "  Downloading charset_normalizer-3.1.0-cp39-cp39-macosx_11_0_arm64.whl (122 kB)\n",
      "\u001b[2K     \u001b[90m━━━━━━━━━━━━━━━━━━━━━━━━━━━━━━━━━━━━━━━\u001b[0m \u001b[32m123.0/123.0 kB\u001b[0m \u001b[31m5.1 MB/s\u001b[0m eta \u001b[36m0:00:00\u001b[0m\n",
      "\u001b[?25hCollecting urllib3<1.27,>=1.21.1\n",
      "  Downloading urllib3-1.26.15-py2.py3-none-any.whl (140 kB)\n",
      "\u001b[2K     \u001b[90m━━━━━━━━━━━━━━━━━━━━━━━━━━━━━━━━━━━━━━━\u001b[0m \u001b[32m140.9/140.9 kB\u001b[0m \u001b[31m5.2 MB/s\u001b[0m eta \u001b[36m0:00:00\u001b[0m\n",
      "\u001b[?25hCollecting PySocks!=1.5.7,>=1.5.6\n",
      "  Downloading PySocks-1.7.1-py3-none-any.whl (16 kB)\n",
      "Installing collected packages: urllib3, tqdm, PySocks, filelock, charset-normalizer, certifi, requests, gdown\n",
      "\u001b[33m  WARNING: The script tqdm is installed in '/Users/amb/Library/Python/3.9/bin' which is not on PATH.\n",
      "  Consider adding this directory to PATH or, if you prefer to suppress this warning, use --no-warn-script-location.\u001b[0m\u001b[33m\n",
      "\u001b[0m\u001b[33m  WARNING: The script normalizer is installed in '/Users/amb/Library/Python/3.9/bin' which is not on PATH.\n",
      "  Consider adding this directory to PATH or, if you prefer to suppress this warning, use --no-warn-script-location.\u001b[0m\u001b[33m\n",
      "\u001b[0m\u001b[33m  WARNING: The script gdown is installed in '/Users/amb/Library/Python/3.9/bin' which is not on PATH.\n",
      "  Consider adding this directory to PATH or, if you prefer to suppress this warning, use --no-warn-script-location.\u001b[0m\u001b[33m\n",
      "\u001b[0mSuccessfully installed PySocks-1.7.1 certifi-2022.12.7 charset-normalizer-3.1.0 filelock-3.10.7 gdown-4.7.1 requests-2.28.2 tqdm-4.65.0 urllib3-1.26.15\n"
     ]
    }
   ],
   "source": [
    "!pip3 install gdown"
   ]
  },
  {
   "cell_type": "code",
   "execution_count": 5,
   "id": "556a73d3",
   "metadata": {},
   "outputs": [
    {
     "name": "stdout",
     "output_type": "stream",
     "text": [
      "zsh:1: command not found: gdown\r\n"
     ]
    }
   ],
   "source": [
    "!gdown 1c0ClC8SrPwJq5rrkyMKyPn80nyHcFikK"
   ]
  },
  {
   "cell_type": "code",
   "execution_count": null,
   "id": "6597486c",
   "metadata": {},
   "outputs": [],
   "source": []
  },
  {
   "cell_type": "code",
   "execution_count": 6,
   "id": "d44274b3",
   "metadata": {},
   "outputs": [
    {
     "name": "stdout",
     "output_type": "stream",
     "text": [
      "zsh:1: command not found: gdown\r\n"
     ]
    }
   ],
   "source": [
    "!gdown"
   ]
  },
  {
   "cell_type": "code",
   "execution_count": 7,
   "id": "551167dc",
   "metadata": {},
   "outputs": [
    {
     "name": "stdout",
     "output_type": "stream",
     "text": [
      "Name: gdown\r\n",
      "Version: 4.7.1\r\n",
      "Summary: Google Drive direct download of big files.\r\n",
      "Home-page: http://github.com/wkentaro/gdown\r\n",
      "Author: Kentaro Wada\r\n",
      "Author-email: www.kentaro.wada@gmail.com\r\n",
      "License: MIT\r\n",
      "Location: /Users/amb/Library/Python/3.9/lib/python/site-packages\r\n",
      "Requires: beautifulsoup4, filelock, requests, six, tqdm\r\n",
      "Required-by: \r\n"
     ]
    }
   ],
   "source": [
    "!pip3 show gdown"
   ]
  },
  {
   "cell_type": "code",
   "execution_count": 8,
   "id": "fef7b290",
   "metadata": {},
   "outputs": [
    {
     "name": "stdout",
     "output_type": "stream",
     "text": [
      "/usr/local/bin:/System/Cryptexes/App/usr/bin:/usr/bin:/bin:/usr/sbin:/sbin\r\n"
     ]
    }
   ],
   "source": [
    "!echo $PATH"
   ]
  },
  {
   "cell_type": "code",
   "execution_count": 9,
   "id": "1eb19877",
   "metadata": {},
   "outputs": [
    {
     "name": "stdout",
     "output_type": "stream",
     "text": [
      "Location: /Users/amb/Library/Python/3.9/lib/python/site-packages\r\n"
     ]
    }
   ],
   "source": [
    "!pip3 show gdown | grep Location"
   ]
  },
  {
   "cell_type": "code",
   "execution_count": 10,
   "id": "7c894f1a",
   "metadata": {},
   "outputs": [],
   "source": [
    "!export PATH=$PATH:/Users/amb/Library/Python/3.9/lib/python/site-packages"
   ]
  },
  {
   "cell_type": "code",
   "execution_count": 18,
   "id": "58c30087",
   "metadata": {},
   "outputs": [
    {
     "name": "stdout",
     "output_type": "stream",
     "text": [
      "zsh:1: command not found: gdown\r\n"
     ]
    }
   ],
   "source": [
    "!gdown 1c0ClC8SrPwJq5rrkyMKyPn80nyHcFikK"
   ]
  },
  {
   "cell_type": "code",
   "execution_count": 12,
   "id": "b6475cd0",
   "metadata": {},
   "outputs": [
    {
     "ename": "SyntaxError",
     "evalue": "invalid syntax (2593410762.py, line 1)",
     "output_type": "error",
     "traceback": [
      "\u001b[0;36m  Cell \u001b[0;32mIn[12], line 1\u001b[0;36m\u001b[0m\n\u001b[0;31m    echo $PATH\u001b[0m\n\u001b[0m         ^\u001b[0m\n\u001b[0;31mSyntaxError\u001b[0m\u001b[0;31m:\u001b[0m invalid syntax\n"
     ]
    }
   ],
   "source": [
    "echo $PATH"
   ]
  },
  {
   "cell_type": "code",
   "execution_count": 13,
   "id": "5b2f5b9a",
   "metadata": {},
   "outputs": [
    {
     "name": "stdout",
     "output_type": "stream",
     "text": [
      "/usr/local/bin:/System/Cryptexes/App/usr/bin:/usr/bin:/bin:/usr/sbin:/sbin\r\n"
     ]
    }
   ],
   "source": [
    "\n",
    "!echo $PATH"
   ]
  },
  {
   "cell_type": "code",
   "execution_count": 14,
   "id": "1166b030",
   "metadata": {},
   "outputs": [
    {
     "name": "stdout",
     "output_type": "stream",
     "text": [
      "\u001b7\u001b[?47h\u001b[1;24r\u001b[1;1H\u001b[J\u001b[7m  UW PICO 5.09                           New Buffer                             \u001b[m\u001b[23;1H\u001b[K\u001b[24;1H\u001b[K\u001b[23;1H\u001b[7m^\u001b[m\u001b[7mG\u001b[m Get Help  \u001b[7m^\u001b[m\u001b[7mO\u001b[m WriteOut  \u001b[7m^\u001b[m\u001b[7mR\u001b[m Read File \u001b[7m^\u001b[m\u001b[7mY\u001b[m Prev Pg   \u001b[7m^\u001b[m\u001b[7mK\u001b[m Cut Text  \u001b[7m^\u001b[m\u001b[7mC\u001b[m Cur Pos   \u001b[K\u001b[24;1H\u001b[7m^\u001b[m\u001b[7mX\u001b[m Exit      \u001b[7m^\u001b[m\u001b[7mJ\u001b[m Justify   \u001b[7m^\u001b[m\u001b[7mW\u001b[m Where is  \u001b[7m^\u001b[m\u001b[7mV\u001b[m Next Pg   \u001b[7m^\u001b[m\u001b[7mU\u001b[m UnCut Text\u001b[7m^\u001b[m\u001b[7mT\u001b[m To Spell  \u001b[K\u001b[3;1H\u001b[22;1H                                                                                \u001b[22;35H\u001b[7m[ New file ]\u001b[m\u001b[1;1H\u001b[J\u001b[7m  UW PICO 5.09                        File: ˜/.bashrc                           \u001b[m\u001b[23;1H\u001b[K\u001b[24;1H\u001b[K\u001b[23;1H\u001b[7m^\u001b[m\u001b[7mG\u001b[m Get Help  \u001b[7m^\u001b[m\u001b[7mO\u001b[m WriteOut  \u001b[7m^\u001b[m\u001b[7mR\u001b[m Read File \u001b[7m^\u001b[m\u001b[7mY\u001b[m Prev Pg   \u001b[7m^\u001b[m\u001b[7mK\u001b[m Cut Text  \u001b[7m^\u001b[m\u001b[7mC\u001b[m Cur Pos   \u001b[K\u001b[24;1H\u001b[7m^\u001b[m\u001b[7mX\u001b[m Exit      \u001b[7m^\u001b[m\u001b[7mJ\u001b[m Justify   \u001b[7m^\u001b[m\u001b[7mW\u001b[m Where is  \u001b[7m^\u001b[m\u001b[7mV\u001b[m Next Pg   \u001b[7m^\u001b[m\u001b[7mU\u001b[m UnCut Text\u001b[7m^\u001b[m\u001b[7mT\u001b[m To Spell  \u001b[K\u001b[3;1H\u001b[22;1H                                                                                \u001b[22;18H\u001b[7m[ line 1 of 1 (100%), character 0 of 0 (0%) ]\u001b[m\u001b[3;1H"
     ]
    }
   ],
   "source": [
    "!nano ˜/.bashrc"
   ]
  },
  {
   "cell_type": "code",
   "execution_count": 15,
   "id": "2f9004f8",
   "metadata": {},
   "outputs": [],
   "source": [
    "\n",
    "!"
   ]
  },
  {
   "cell_type": "code",
   "execution_count": null,
   "id": "07719bd4",
   "metadata": {},
   "outputs": [],
   "source": []
  },
  {
   "cell_type": "code",
   "execution_count": 17,
   "id": "0565a639",
   "metadata": {},
   "outputs": [
    {
     "name": "stdout",
     "output_type": "stream",
     "text": [
      "zsh:1: command not found: gdown\r\n"
     ]
    }
   ],
   "source": [
    "!gdown 1c0ClC8SrPwJq5rrkyMKyPn80nyHcFikK"
   ]
  },
  {
   "cell_type": "code",
   "execution_count": 19,
   "id": "aba173c3",
   "metadata": {},
   "outputs": [
    {
     "name": "stdout",
     "output_type": "stream",
     "text": [
      "zsh:1: command not found: gdown\r\n"
     ]
    }
   ],
   "source": [
    "!gdown"
   ]
  },
  {
   "cell_type": "code",
   "execution_count": 20,
   "id": "cb8521a0",
   "metadata": {},
   "outputs": [
    {
     "ename": "NameError",
     "evalue": "name 'gdown' is not defined",
     "output_type": "error",
     "traceback": [
      "\u001b[0;31m---------------------------------------------------------------------------\u001b[0m",
      "\u001b[0;31mNameError\u001b[0m                                 Traceback (most recent call last)",
      "Cell \u001b[0;32mIn[20], line 1\u001b[0m\n\u001b[0;32m----> 1\u001b[0m \u001b[43mgdown\u001b[49m\n",
      "\u001b[0;31mNameError\u001b[0m: name 'gdown' is not defined"
     ]
    }
   ],
   "source": [
    "gdown"
   ]
  },
  {
   "cell_type": "code",
   "execution_count": 21,
   "id": "c2b71929",
   "metadata": {},
   "outputs": [
    {
     "ename": "NameError",
     "evalue": "name 'pip3' is not defined",
     "output_type": "error",
     "traceback": [
      "\u001b[0;31m---------------------------------------------------------------------------\u001b[0m",
      "\u001b[0;31mNameError\u001b[0m                                 Traceback (most recent call last)",
      "Cell \u001b[0;32mIn[21], line 1\u001b[0m\n\u001b[0;32m----> 1\u001b[0m \u001b[43mpip3\u001b[49m\n",
      "\u001b[0;31mNameError\u001b[0m: name 'pip3' is not defined"
     ]
    }
   ],
   "source": [
    "pip3"
   ]
  },
  {
   "cell_type": "code",
   "execution_count": 22,
   "id": "4400775b",
   "metadata": {},
   "outputs": [
    {
     "name": "stdout",
     "output_type": "stream",
     "text": [
      "zsh:1: command not found: gdown\r\n"
     ]
    }
   ],
   "source": [
    "!gdown"
   ]
  },
  {
   "cell_type": "code",
   "execution_count": 23,
   "id": "bd6bcaa5",
   "metadata": {},
   "outputs": [
    {
     "ename": "SyntaxError",
     "evalue": "invalid syntax (2958997092.py, line 1)",
     "output_type": "error",
     "traceback": [
      "\u001b[0;36m  Cell \u001b[0;32mIn[23], line 1\u001b[0;36m\u001b[0m\n\u001b[0;31m    echo \"export PATH=\\\"`python3 -m site --user-base`/bin:\\$PATH\\\"\" >> ~/.bashrc\u001b[0m\n\u001b[0m         ^\u001b[0m\n\u001b[0;31mSyntaxError\u001b[0m\u001b[0;31m:\u001b[0m invalid syntax\n"
     ]
    }
   ],
   "source": [
    "echo \"export PATH=\\\"`python3 -m site --user-base`/bin:\\$PATH\\\"\" >> ~/.bashrc"
   ]
  },
  {
   "cell_type": "code",
   "execution_count": 24,
   "id": "00e7700a",
   "metadata": {},
   "outputs": [],
   "source": [
    "!echo \"export PATH=\\\"`python3 -m site --user-base`/bin:\\$PATH\\\"\" >> ~/.bashrc"
   ]
  },
  {
   "cell_type": "code",
   "execution_count": 25,
   "id": "ae35bb34",
   "metadata": {},
   "outputs": [],
   "source": [
    "!source ~/.bashrc\n"
   ]
  },
  {
   "cell_type": "code",
   "execution_count": 26,
   "id": "819ee29b",
   "metadata": {},
   "outputs": [
    {
     "name": "stdout",
     "output_type": "stream",
     "text": [
      "zsh:1: command not found: gdown\r\n"
     ]
    }
   ],
   "source": [
    "!gdown"
   ]
  },
  {
   "cell_type": "code",
   "execution_count": null,
   "id": "b3e1d328",
   "metadata": {},
   "outputs": [],
   "source": [
    "!nano ˜/.bashrc\n"
   ]
  },
  {
   "cell_type": "code",
   "execution_count": null,
   "id": "310cad3c",
   "metadata": {},
   "outputs": [],
   "source": [
    "!pip3 install gdown"
   ]
  },
  {
   "cell_type": "code",
   "execution_count": null,
   "id": "d78689f6",
   "metadata": {},
   "outputs": [],
   "source": [
    "!gdown --version"
   ]
  },
  {
   "cell_type": "code",
   "execution_count": null,
   "id": "b118cb9c",
   "metadata": {},
   "outputs": [],
   "source": [
    "a = 10"
   ]
  },
  {
   "cell_type": "code",
   "execution_count": null,
   "id": "02bcf588",
   "metadata": {},
   "outputs": [],
   "source": [
    "a"
   ]
  },
  {
   "cell_type": "code",
   "execution_count": null,
   "id": "40771bac",
   "metadata": {},
   "outputs": [],
   "source": []
  },
  {
   "cell_type": "code",
   "execution_count": null,
   "id": "8d0d7c96",
   "metadata": {},
   "outputs": [],
   "source": []
  }
 ],
 "metadata": {
  "kernelspec": {
   "display_name": "Python 3 (ipykernel)",
   "language": "python",
   "name": "python3"
  },
  "language_info": {
   "codemirror_mode": {
    "name": "ipython",
    "version": 3
   },
   "file_extension": ".py",
   "mimetype": "text/x-python",
   "name": "python",
   "nbconvert_exporter": "python",
   "pygments_lexer": "ipython3",
   "version": "3.9.6"
  }
 },
 "nbformat": 4,
 "nbformat_minor": 5
}
